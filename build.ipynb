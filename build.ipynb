{
 "cells": [
  {
   "cell_type": "code",
   "execution_count": 2,
   "metadata": {},
   "outputs": [],
   "source": [
    "import pickle\n",
    "import os\n",
    "import concurrent.futures\n",
    "from tqdm import tqdm\n",
    "def create_folder(directory):\n",
    "    if not os.path.exists(directory):\n",
    "        os.makedirs(directory)\n",
    "\n",
    "def dump(path, data):\n",
    "    with open(path+'.pickle', 'wb') as f:\n",
    "        pickle.dump(data, f, protocol=2)\n",
    "\n",
    "def dump_dict(d, base_path, depth, current_depth = 1, base_progress = \"\"):\n",
    "    create_folder(base_path)\n",
    "    i = 0\n",
    "    futures = []\n",
    "    with concurrent.futures.ThreadPoolExecutor(max_workers=1000) as executor:\n",
    "        for key in d:\n",
    "            progress = base_progress + f\"({i} / {len(d)-1})\"\n",
    "            path = os.path.join(base_path, str(key))\n",
    "            if isinstance(d[key], dict) and current_depth < depth:\n",
    "                print(progress)\n",
    "                dump_dict(d[key], path, depth, current_depth+1, progress + \" - \")\n",
    "            else:\n",
    "                futures.append(executor.submit(dump, path, d[key]))\n",
    "            i+=1\n",
    "        concurrent.futures.wait(futures)"
   ]
  },
  {
   "cell_type": "code",
   "execution_count": 3,
   "metadata": {},
   "outputs": [
    {
     "name": "stdout",
     "output_type": "stream",
     "text": [
      "(0 / 1)\n",
      "(0 / 1) - (1 / 2)\n",
      "(0 / 1) - (2 / 2)\n"
     ]
    }
   ],
   "source": [
    "import pandas as pd\n",
    "import os\n",
    "import re\n",
    "import pickle\n",
    "\n",
    "offsets = {}\n",
    "pattern = re.compile(r'offsets-(ae|se)-(.*).txt')\n",
    "for root, dirs, files in os.walk(\"data\"):\n",
    "    for file in files:\n",
    "        match = pattern.match(file)\n",
    "        if match:\n",
    "            gameVersion = match.group(1)\n",
    "            version = match.group(2)\n",
    "            df = pd.read_csv(\"data/\"+file, sep='\\t', header=None)\n",
    "            df[0] = df[0].apply(lambda x: int(x))\n",
    "            df[1] = df[1].apply(lambda x: \"0x\"+x)\n",
    "\n",
    "            offsets[version]={\n",
    "                \"game-version\":gameVersion,\n",
    "                \"skyrim-to-address\": dict(zip(df[1], df[0])),\n",
    "                \"address-to-skyrim\": dict(zip(df[0], df[1])),\n",
    "            }\n",
    "\n",
    "\n",
    "dump_dict(offsets,\".\\\\data\\\\offsets\\\\\", 3)\n",
    "\n",
    "\n",
    "# with open('data/offsets.pickle', 'wb')  as f:\n",
    "#     pickle.dump(offsets, f, protocol=2)"
   ]
  }
 ],
 "metadata": {
  "kernelspec": {
   "display_name": "torch",
   "language": "python",
   "name": "python3"
  },
  "language_info": {
   "codemirror_mode": {
    "name": "ipython",
    "version": 3
   },
   "file_extension": ".py",
   "mimetype": "text/x-python",
   "name": "python",
   "nbconvert_exporter": "python",
   "pygments_lexer": "ipython3",
   "version": "3.11.9"
  }
 },
 "nbformat": 4,
 "nbformat_minor": 2
}
